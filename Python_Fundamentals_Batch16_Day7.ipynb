{
 "cells": [
  {
   "cell_type": "code",
   "execution_count": 1,
   "metadata": {},
   "outputs": [
    {
     "name": "stdout",
     "output_type": "stream",
     "text": [
      "Bismillah\n"
     ]
    }
   ],
   "source": [
    "print('Bismillah')"
   ]
  },
  {
   "cell_type": "code",
   "execution_count": null,
   "metadata": {},
   "outputs": [],
   "source": [
    "#If condition"
   ]
  },
  {
   "cell_type": "code",
   "execution_count": 2,
   "metadata": {},
   "outputs": [
    {
     "name": "stdout",
     "output_type": "stream",
     "text": [
      "['bmw', 'audi', 'benz', 'toyota', 'jaquar']\n"
     ]
    }
   ],
   "source": [
    "cars=['bmw','audi','benz','toyota','jaquar']\n",
    "\n",
    "print(cars)"
   ]
  },
  {
   "cell_type": "code",
   "execution_count": 3,
   "metadata": {},
   "outputs": [
    {
     "name": "stdout",
     "output_type": "stream",
     "text": [
      "Bmw\n",
      "AUDI\n",
      "Benz\n",
      "Toyota\n",
      "Jaquar\n"
     ]
    }
   ],
   "source": [
    "for x in cars:\n",
    "    if x=='audi':\n",
    "        print(x.upper())\n",
    "    else:\n",
    "        print(x.title())"
   ]
  },
  {
   "cell_type": "code",
   "execution_count": 7,
   "metadata": {},
   "outputs": [
    {
     "name": "stdout",
     "output_type": "stream",
     "text": [
      "Your NameHameed\n",
      "Welcome Hameed\n"
     ]
    }
   ],
   "source": [
    "name=input(\"Your Name\")\n",
    "print(f\"Welcome {name.title()}\")"
   ]
  },
  {
   "cell_type": "code",
   "execution_count": 8,
   "metadata": {},
   "outputs": [],
   "source": [
    "#to accept integer"
   ]
  },
  {
   "cell_type": "code",
   "execution_count": 11,
   "metadata": {},
   "outputs": [
    {
     "name": "stdout",
     "output_type": "stream",
     "text": [
      "How old are you?17\n",
      "Try Next Year\n"
     ]
    }
   ],
   "source": [
    "age=input(\"How old are you?\")\n",
    "age=int(age)\n",
    "if age>=18:\n",
    "    print(\"You are eligible to vote\")\n",
    "elif age==17:\n",
    "    print(\"Try Next Year\")\n",
    "else:\n",
    "    print(\"Not Eligible\")\n",
    "    \n",
    "    "
   ]
  },
  {
   "cell_type": "code",
   "execution_count": 12,
   "metadata": {},
   "outputs": [
    {
     "name": "stdout",
     "output_type": "stream",
     "text": [
      "How old are you?18\n",
      "You are eligible to vote\n"
     ]
    }
   ],
   "source": [
    "age=input(\"How old are you?\")\n",
    "age=int(age)\n",
    "if age>=18:\n",
    "    print(\"You are eligible to vote\")\n",
    "elif age==17:\n",
    "    print(\"Try Next Year\")\n",
    "else:\n",
    "    print(\"Not Eligible\")"
   ]
  },
  {
   "cell_type": "code",
   "execution_count": 13,
   "metadata": {},
   "outputs": [
    {
     "name": "stdout",
     "output_type": "stream",
     "text": [
      "How old are you?15\n",
      "Not Eligible\n"
     ]
    }
   ],
   "source": [
    "age=input(\"How old are you?\")\n",
    "age=int(age)\n",
    "if age>=18:\n",
    "    print(\"You are eligible to vote\")\n",
    "elif age==17:\n",
    "    print(\"Try Next Year\")\n",
    "else:\n",
    "    print(\"Not Eligible\")"
   ]
  },
  {
   "cell_type": "code",
   "execution_count": null,
   "metadata": {},
   "outputs": [],
   "source": []
  }
 ],
 "metadata": {
  "kernelspec": {
   "display_name": "Python 3",
   "language": "python",
   "name": "python3"
  },
  "language_info": {
   "codemirror_mode": {
    "name": "ipython",
    "version": 3
   },
   "file_extension": ".py",
   "mimetype": "text/x-python",
   "name": "python",
   "nbconvert_exporter": "python",
   "pygments_lexer": "ipython3",
   "version": "3.7.6"
  }
 },
 "nbformat": 4,
 "nbformat_minor": 4
}
