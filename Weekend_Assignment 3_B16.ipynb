{
 "cells": [
  {
   "cell_type": "code",
   "execution_count": 1,
   "metadata": {},
   "outputs": [
    {
     "name": "stdout",
     "output_type": "stream",
     "text": [
      "Bismillah\n"
     ]
    }
   ],
   "source": [
    "print('Bismillah')"
   ]
  },
  {
   "cell_type": "markdown",
   "metadata": {},
   "source": [
    "# Sandwiches:\n",
    "           Write a function that accepts a list of items a person wants on a sandwich. \n",
    "           The function should have one parameter that collects as many items as the function call provides,\n",
    "           and it should print a summary of the sand- wich that’s being ordered.\n",
    "           Call the function three times, using a different num- ber of arguments each time."
   ]
  },
  {
   "cell_type": "code",
   "execution_count": 5,
   "metadata": {},
   "outputs": [],
   "source": [
    "def sandwich(*user_items):  #for multiple args we use '*' \n",
    "    print('Item needs to make your Mouth watering Sandwich:\\n')\n",
    "    #typ = input('Non Veg or Veg')\n",
    "    for item in user_items:\n",
    "        print(f'{item} is added')\n",
    "    print(f'\\nReady To Serve Your Delicious Sandwich!\\n')\n",
    "    "
   ]
  },
  {
   "cell_type": "code",
   "execution_count": 6,
   "metadata": {},
   "outputs": [
    {
     "name": "stdout",
     "output_type": "stream",
     "text": [
      "Item needs to make your Mouth watering Sandwich:\n",
      "\n",
      "Bread is added\n",
      "Chicken is added\n",
      "Mayonnaise is added\n",
      "\n",
      "Ready To Serve Your Delicious Sandwich!\n",
      "\n"
     ]
    }
   ],
   "source": [
    "sandwich('Bread','Chicken','Mayonnaise')"
   ]
  },
  {
   "cell_type": "code",
   "execution_count": 7,
   "metadata": {},
   "outputs": [
    {
     "name": "stdout",
     "output_type": "stream",
     "text": [
      "Item needs to make your Mouth watering Sandwich:\n",
      "\n",
      "Mutton is added\n",
      "Cheese is added\n",
      "Ketchup is added\n",
      "\n",
      "Ready To Serve Your Delicious Sandwich!\n",
      "\n"
     ]
    }
   ],
   "source": [
    "sandwich('Mutton','Cheese','Ketchup')"
   ]
  },
  {
   "cell_type": "code",
   "execution_count": 8,
   "metadata": {},
   "outputs": [
    {
     "name": "stdout",
     "output_type": "stream",
     "text": [
      "Item needs to make your Mouth watering Sandwich:\n",
      "\n",
      "Cabagges is added\n",
      "Yogurt is added\n",
      "Onions is added\n",
      "Paneer is added\n",
      "\n",
      "Ready To Serve Your Delicious Sandwich!\n",
      "\n"
     ]
    }
   ],
   "source": [
    "sandwich('Cabagges','Yogurt','Onions','Paneer')"
   ]
  },
  {
   "cell_type": "code",
   "execution_count": null,
   "metadata": {},
   "outputs": [],
   "source": []
  },
  {
   "cell_type": "markdown",
   "metadata": {},
   "source": [
    "# Cars: \n",
    "    Write a function that stores information about a car in a diction- ary.The function should always receive a manufacturer\n",
    "    and a model name.It should then accept an arbitrary number of keyword arguments.Call the func- tion with the required\n",
    "    information and two other name-value pairs,such as a color or an optional feature.\n",
    "    Your function should work for a call like this one:\n",
    "    car = make_car('subaru', 'outback', color='blue', tow_package=True)\n",
    "    Print the dictionary that’s returned to make sure all the information was stored correctly."
   ]
  },
  {
   "cell_type": "code",
   "execution_count": 13,
   "metadata": {},
   "outputs": [],
   "source": [
    "def cars(brand,model,**optional_feature):\n",
    "    car = {'brand':brand,'model':model,}\n",
    "    for item,value in optional_feature.items():\n",
    "        car[item]=value\n",
    "    \n",
    "    print(car)"
   ]
  },
  {
   "cell_type": "code",
   "execution_count": 14,
   "metadata": {},
   "outputs": [
    {
     "name": "stdout",
     "output_type": "stream",
     "text": [
      "{'brand': 'Bmw', 'model': '3 series GT', 'color': 'Black', 'fuel_type': 'Diesel'}\n"
     ]
    }
   ],
   "source": [
    "cars('Bmw', '3 series GT', color = 'Black', fuel_type = 'Diesel')"
   ]
  },
  {
   "cell_type": "code",
   "execution_count": null,
   "metadata": {},
   "outputs": [],
   "source": []
  },
  {
   "cell_type": "markdown",
   "metadata": {},
   "source": [
    "# Addition: \n",
    "One common problem when prompting for numerical input occurs when people provide text instead of numbers.\n",
    "When you try to convert the input to an int, you’ll get a ValueError. Write a program that prompts for two numbers.\n",
    "Add them together and print the result. Catch the ValueError if either input value is not a number,and print a friendly\n",
    "error message. Test your program by entering two numbers and then by entering some text instead of a number. "
   ]
  },
  {
   "cell_type": "code",
   "execution_count": 33,
   "metadata": {},
   "outputs": [],
   "source": [
    "#with function\n",
    "def add(var1,var2):\n",
    "    \n",
    "    try:\n",
    "        var1 and var2 == type(int)\n",
    "        sum = var1 + var2\n",
    "        print(sum)\n",
    "    except:\n",
    "        print('Cannot add character and integer together!\\nPlease enter valid input to perform addition')\n",
    "        \n"
   ]
  },
  {
   "cell_type": "code",
   "execution_count": 34,
   "metadata": {},
   "outputs": [
    {
     "name": "stdout",
     "output_type": "stream",
     "text": [
      "94\n"
     ]
    }
   ],
   "source": [
    "add(25,69)"
   ]
  },
  {
   "cell_type": "code",
   "execution_count": 35,
   "metadata": {},
   "outputs": [
    {
     "name": "stdout",
     "output_type": "stream",
     "text": [
      "Cannot add character and integer together!\n",
      "Please enter valid input to perform addition\n"
     ]
    }
   ],
   "source": [
    "add('Twenty Five',69)"
   ]
  },
  {
   "cell_type": "code",
   "execution_count": null,
   "metadata": {},
   "outputs": [],
   "source": []
  },
  {
   "cell_type": "code",
   "execution_count": null,
   "metadata": {},
   "outputs": [],
   "source": []
  }
 ],
 "metadata": {
  "kernelspec": {
   "display_name": "Python 3",
   "language": "python",
   "name": "python3"
  },
  "language_info": {
   "codemirror_mode": {
    "name": "ipython",
    "version": 3
   },
   "file_extension": ".py",
   "mimetype": "text/x-python",
   "name": "python",
   "nbconvert_exporter": "python",
   "pygments_lexer": "ipython3",
   "version": "3.7.6"
  }
 },
 "nbformat": 4,
 "nbformat_minor": 4
}
