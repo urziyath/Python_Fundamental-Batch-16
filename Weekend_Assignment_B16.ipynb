{
 "cells": [
  {
   "cell_type": "code",
   "execution_count": 1,
   "metadata": {},
   "outputs": [
    {
     "name": "stdout",
     "output_type": "stream",
     "text": [
      "Bismillah\n"
     ]
    }
   ],
   "source": [
    "print(\"Bismillah\")"
   ]
  },
  {
   "cell_type": "code",
   "execution_count": null,
   "metadata": {},
   "outputs": [],
   "source": [
    "#Activity1"
   ]
  },
  {
   "cell_type": "code",
   "execution_count": 2,
   "metadata": {},
   "outputs": [
    {
     "name": "stdout",
     "output_type": "stream",
     "text": [
      "Arabian Nights\n",
      "Multi-Cuisine\n",
      "Kottayam,Kerala\n",
      "www.arabiannights.com\n",
      "Restaurant Is Open Now\n"
     ]
    }
   ],
   "source": [
    "class Restaurant:\n",
    "    def __init__(self,restaurant_name,cuisine_type):\n",
    "        self.restaurant_name=restaurant_name\n",
    "        self.cuisine_type=cuisine_type\n",
    "    def describe_restaurant(self):\n",
    "        print(self.restaurant_name)\n",
    "        print(self.cuisine_type)\n",
    "    def open_restaurant(self):\n",
    "        print(\"Restaurant Is Open Now\")\n",
    "\n",
    "restaurant = Restaurant('Arabian Nights','Multi-Cuisine')    \n",
    "restaurant.address='Kottayam,Kerala'     #instance\n",
    "restaurant.web_address = \"www.arabiannights.com\"    #instance\n",
    "restaurant.describe_restaurant()\n",
    "print(restaurant.address)\n",
    "print(restaurant.web_address)\n",
    "restaurant.open_restaurant()\n",
    "\n",
    "    "
   ]
  },
  {
   "cell_type": "code",
   "execution_count": null,
   "metadata": {},
   "outputs": [],
   "source": [
    "#Activity2"
   ]
  },
  {
   "cell_type": "code",
   "execution_count": 10,
   "metadata": {},
   "outputs": [
    {
     "name": "stdout",
     "output_type": "stream",
     "text": [
      "---IceCream Flavours---\n",
      "\tStrawberry\n",
      "\tChocolate\n",
      "\tVanilla\n",
      "IceCreamStand's Special : Jelly Rose Falooda\n"
     ]
    }
   ],
   "source": [
    "class IceCreamStand(Restaurant):\n",
    "    def flavours(self,flavour):\n",
    "        self.flavour=flavour\n",
    "    def display_flavour(self):\n",
    "        print('---IceCream Flavours---')\n",
    "        print(\"\\tStrawberry\")\n",
    "        print(\"\\tChocolate\")\n",
    "        print(\"\\tVanilla\")\n",
    "        \n",
    "icecreamstand = IceCreamStand('Arabian Nights','Multi-Cuisine')\n",
    "icecreamstand.special = 'Jelly Rose Falooda'  #instances \n",
    "icecreamstand.display_flavour()\n",
    "print(f\"IceCreamStand's Special : {icecreamstand.special}\") \n",
    "\n",
    "    "
   ]
  },
  {
   "cell_type": "code",
   "execution_count": null,
   "metadata": {},
   "outputs": [],
   "source": []
  },
  {
   "cell_type": "code",
   "execution_count": null,
   "metadata": {},
   "outputs": [],
   "source": []
  },
  {
   "cell_type": "code",
   "execution_count": null,
   "metadata": {},
   "outputs": [],
   "source": []
  },
  {
   "cell_type": "code",
   "execution_count": null,
   "metadata": {},
   "outputs": [],
   "source": []
  },
  {
   "cell_type": "code",
   "execution_count": null,
   "metadata": {},
   "outputs": [],
   "source": []
  },
  {
   "cell_type": "code",
   "execution_count": null,
   "metadata": {},
   "outputs": [],
   "source": []
  },
  {
   "cell_type": "code",
   "execution_count": null,
   "metadata": {},
   "outputs": [],
   "source": []
  },
  {
   "cell_type": "code",
   "execution_count": null,
   "metadata": {},
   "outputs": [],
   "source": []
  }
 ],
 "metadata": {
  "kernelspec": {
   "display_name": "Python 3",
   "language": "python",
   "name": "python3"
  },
  "language_info": {
   "codemirror_mode": {
    "name": "ipython",
    "version": 3
   },
   "file_extension": ".py",
   "mimetype": "text/x-python",
   "name": "python",
   "nbconvert_exporter": "python",
   "pygments_lexer": "ipython3",
   "version": "3.7.6"
  }
 },
 "nbformat": 4,
 "nbformat_minor": 4
}
