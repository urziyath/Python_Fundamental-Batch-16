{
 "cells": [
  {
   "cell_type": "code",
   "execution_count": 1,
   "metadata": {},
   "outputs": [
    {
     "name": "stdout",
     "output_type": "stream",
     "text": [
      "Bismillah\n"
     ]
    }
   ],
   "source": [
    "print('Bismillah')"
   ]
  },
  {
   "cell_type": "code",
   "execution_count": null,
   "metadata": {},
   "outputs": [],
   "source": [
    "#file handling ##writefile"
   ]
  },
  {
   "cell_type": "code",
   "execution_count": 7,
   "metadata": {},
   "outputs": [
    {
     "name": "stdout",
     "output_type": "stream",
     "text": [
      "Enter Your Name: \n",
      "Hameed\n"
     ]
    }
   ],
   "source": [
    "with open('newfile.txt','w+') as file:\n",
    "    name= input('Enter Your Name: \\n')\n",
    "    file.write(f\"Welcome Back Mr.{name}\\n\")\n",
    "    file.write('Hope You Are Doing Good\\n')\n",
    "    "
   ]
  },
  {
   "cell_type": "code",
   "execution_count": null,
   "metadata": {},
   "outputs": [],
   "source": [
    "#read"
   ]
  },
  {
   "cell_type": "code",
   "execution_count": 8,
   "metadata": {},
   "outputs": [
    {
     "name": "stdout",
     "output_type": "stream",
     "text": [
      "Welcome Back Mr.Hameed\n",
      "Hope You Are Doing Good\n",
      "\n"
     ]
    }
   ],
   "source": [
    "with open('newfile.txt','r') as file:\n",
    "    details=file.read()\n",
    "print(details)"
   ]
  },
  {
   "cell_type": "code",
   "execution_count": null,
   "metadata": {},
   "outputs": [],
   "source": [
    "#append"
   ]
  },
  {
   "cell_type": "code",
   "execution_count": 9,
   "metadata": {},
   "outputs": [
    {
     "name": "stdout",
     "output_type": "stream",
     "text": [
      "Welcome Back Mr.Hameed\n",
      "Hope You Are Doing Good\n",
      "\n",
      "Stay Home And Stay Safe\n",
      " Lets Together Fight Against Corona!\n"
     ]
    }
   ],
   "source": [
    "with open('newfile.txt','a') as file:\n",
    "    file.write('\\nStay Home And Stay Safe\\n Lets Together Fight Against Corona!')\n",
    "    \n",
    "with open('newfile.txt','r') as file:\n",
    "    details=file.read()\n",
    "print(details)\n",
    "    \n",
    "    "
   ]
  },
  {
   "cell_type": "code",
   "execution_count": null,
   "metadata": {},
   "outputs": [],
   "source": [
    "#execption handling #ZeroDivisionError"
   ]
  },
  {
   "cell_type": "code",
   "execution_count": 10,
   "metadata": {},
   "outputs": [
    {
     "name": "stdout",
     "output_type": "stream",
     "text": [
      "Its Invalid!\n",
      "Don't Use Zero in divisor\n"
     ]
    }
   ],
   "source": [
    "try:\n",
    "    print(10/0)\n",
    "except ZeroDivisionError:\n",
    "    print(\"Its Invalid!\\nDon't Use Zero in divisor\")"
   ]
  },
  {
   "cell_type": "code",
   "execution_count": null,
   "metadata": {},
   "outputs": [],
   "source": [
    "#FileNotFoundError"
   ]
  },
  {
   "cell_type": "code",
   "execution_count": 14,
   "metadata": {},
   "outputs": [
    {
     "name": "stdout",
     "output_type": "stream",
     "text": [
      "Enter Your Text File:numfile.txt\n",
      "Sorry numfile.txt does not Exist!!\n"
     ]
    }
   ],
   "source": [
    "filename=input('Enter Your Text File:')\n",
    "try:\n",
    "    with open(filename) as obj:\n",
    "        details= obj.read()\n",
    "except FileNotFoundError:\n",
    "    print(f\"Sorry {filename} does not Exist!!\")"
   ]
  },
  {
   "cell_type": "code",
   "execution_count": 15,
   "metadata": {},
   "outputs": [
    {
     "name": "stdout",
     "output_type": "stream",
     "text": [
      "Thanks\n"
     ]
    }
   ],
   "source": [
    "print('Thanks')"
   ]
  },
  {
   "cell_type": "code",
   "execution_count": null,
   "metadata": {},
   "outputs": [],
   "source": []
  },
  {
   "cell_type": "code",
   "execution_count": null,
   "metadata": {},
   "outputs": [],
   "source": []
  },
  {
   "cell_type": "code",
   "execution_count": null,
   "metadata": {},
   "outputs": [],
   "source": []
  }
 ],
 "metadata": {
  "kernelspec": {
   "display_name": "Python 3",
   "language": "python",
   "name": "python3"
  },
  "language_info": {
   "codemirror_mode": {
    "name": "ipython",
    "version": 3
   },
   "file_extension": ".py",
   "mimetype": "text/x-python",
   "name": "python",
   "nbconvert_exporter": "python",
   "pygments_lexer": "ipython3",
   "version": "3.7.6"
  }
 },
 "nbformat": 4,
 "nbformat_minor": 4
}
