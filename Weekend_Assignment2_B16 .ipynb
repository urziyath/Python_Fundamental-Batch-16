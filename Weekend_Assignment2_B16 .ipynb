{
 "cells": [
  {
   "cell_type": "code",
   "execution_count": 1,
   "metadata": {},
   "outputs": [
    {
     "name": "stdout",
     "output_type": "stream",
     "text": [
      "Bismillah\n"
     ]
    }
   ],
   "source": [
    "print('Bismillah')"
   ]
  },
  {
   "cell_type": "code",
   "execution_count": null,
   "metadata": {},
   "outputs": [],
   "source": []
  },
  {
   "cell_type": "code",
   "execution_count": null,
   "metadata": {},
   "outputs": [],
   "source": [
    "T-Shirt: \n",
    "Write a function called make_shirt() that accepts a size and the text of a message that should be printed on the shirt.\n",
    "The function should print a sentence summarizing the size of the shirt and the message printed on it.\n",
    "\n",
    "Call the function once using positional arguments to make a shirt. Call the function a second time using keyword arguments."
   ]
  },
  {
   "cell_type": "code",
   "execution_count": null,
   "metadata": {},
   "outputs": [],
   "source": []
  },
  {
   "cell_type": "code",
   "execution_count": 2,
   "metadata": {},
   "outputs": [],
   "source": [
    "def make_shirt(size,text):   \n",
    "    print(f'Size Of Your T-shirt : {size}')\n",
    "    print(f'Text printed on T-Shirt : {text}')\n",
    "    "
   ]
  },
  {
   "cell_type": "code",
   "execution_count": 3,
   "metadata": {},
   "outputs": [
    {
     "name": "stdout",
     "output_type": "stream",
     "text": [
      "Size Of Your T-shirt : 38\n",
      "Text printed on T-Shirt : I Love Coding\n"
     ]
    }
   ],
   "source": [
    "make_shirt(38,'I Love Coding') #using positional arguments"
   ]
  },
  {
   "cell_type": "code",
   "execution_count": 4,
   "metadata": {},
   "outputs": [
    {
     "name": "stdout",
     "output_type": "stream",
     "text": [
      "Size Of Your T-shirt : 38\n",
      "Text printed on T-Shirt : I Love Coding\n"
     ]
    }
   ],
   "source": [
    "make_shirt(text = 'I Love Coding',size = 38)  #using keyword arguments"
   ]
  },
  {
   "cell_type": "code",
   "execution_count": null,
   "metadata": {},
   "outputs": [],
   "source": []
  },
  {
   "cell_type": "code",
   "execution_count": null,
   "metadata": {},
   "outputs": [],
   "source": [
    "Large Shirts:\n",
    "Modify the make_shirt() function so that shirts are large by default with a message that reads I love Python. \n",
    "Make a large shirt and a medium shirt with the default message, and a shirt of any size with a different message."
   ]
  },
  {
   "cell_type": "code",
   "execution_count": null,
   "metadata": {},
   "outputs": [],
   "source": []
  },
  {
   "cell_type": "code",
   "execution_count": 5,
   "metadata": {},
   "outputs": [],
   "source": [
    "def make_shirt(size = 'Large',text = 'I Love Python'):  \n",
    "    print(f'Size Of Your T-shirt : {size}')\n",
    "    print(f'Text printed on T-Shirt : {text}')"
   ]
  },
  {
   "cell_type": "code",
   "execution_count": 6,
   "metadata": {},
   "outputs": [
    {
     "name": "stdout",
     "output_type": "stream",
     "text": [
      "Size Of Your T-shirt : Large\n",
      "Text printed on T-Shirt : I Love Python\n"
     ]
    }
   ],
   "source": [
    "make_shirt()                         #by default"
   ]
  },
  {
   "cell_type": "code",
   "execution_count": 7,
   "metadata": {},
   "outputs": [
    {
     "name": "stdout",
     "output_type": "stream",
     "text": [
      "Size Of Your T-shirt : Medium\n",
      "Text printed on T-Shirt : I Love Python\n"
     ]
    }
   ],
   "source": [
    "make_shirt(size = 'Medium')         #medium shirt with default message"
   ]
  },
  {
   "cell_type": "code",
   "execution_count": 8,
   "metadata": {},
   "outputs": [
    {
     "name": "stdout",
     "output_type": "stream",
     "text": [
      "Size Of Your T-shirt : 38\n",
      "Text printed on T-Shirt : I Love Coding\n"
     ]
    }
   ],
   "source": [
    "make_shirt(38,'I Love Coding')     #any size with different message"
   ]
  },
  {
   "cell_type": "code",
   "execution_count": null,
   "metadata": {},
   "outputs": [],
   "source": []
  },
  {
   "cell_type": "code",
   "execution_count": null,
   "metadata": {},
   "outputs": [],
   "source": [
    "Cities: \n",
    "Write a function called describe_city() that accepts the name of a city and its country. \n",
    "The function should print a simple sentence, such as Reykjavik is in Iceland. \n",
    "Give the parameter for the country a default value. Call your function for three different cities,\n",
    "at least one of which is not in the default country. "
   ]
  },
  {
   "cell_type": "code",
   "execution_count": null,
   "metadata": {},
   "outputs": [],
   "source": []
  },
  {
   "cell_type": "code",
   "execution_count": 9,
   "metadata": {},
   "outputs": [],
   "source": [
    "def describe_city(city,country = 'India'):\n",
    "    print(f'{city} is in {country}')"
   ]
  },
  {
   "cell_type": "code",
   "execution_count": 10,
   "metadata": {},
   "outputs": [
    {
     "name": "stdout",
     "output_type": "stream",
     "text": [
      "Kottayam is in India\n",
      "Hyderabad is in India\n",
      "Utrecht is in Netherlands\n"
     ]
    }
   ],
   "source": [
    "describe_city('Kottayam')\n",
    "describe_city('Hyderabad')\n",
    "describe_city('Utrecht',country = 'Netherlands')"
   ]
  },
  {
   "cell_type": "code",
   "execution_count": null,
   "metadata": {},
   "outputs": [],
   "source": []
  },
  {
   "cell_type": "code",
   "execution_count": null,
   "metadata": {},
   "outputs": [],
   "source": []
  },
  {
   "cell_type": "code",
   "execution_count": null,
   "metadata": {},
   "outputs": [],
   "source": []
  },
  {
   "cell_type": "code",
   "execution_count": null,
   "metadata": {},
   "outputs": [],
   "source": []
  },
  {
   "cell_type": "code",
   "execution_count": null,
   "metadata": {},
   "outputs": [],
   "source": []
  }
 ],
 "metadata": {
  "kernelspec": {
   "display_name": "Python 3",
   "language": "python",
   "name": "python3"
  },
  "language_info": {
   "codemirror_mode": {
    "name": "ipython",
    "version": 3
   },
   "file_extension": ".py",
   "mimetype": "text/x-python",
   "name": "python",
   "nbconvert_exporter": "python",
   "pygments_lexer": "ipython3",
   "version": "3.7.6"
  }
 },
 "nbformat": 4,
 "nbformat_minor": 4
}
